{
 "cells": [
  {
   "cell_type": "markdown",
   "metadata": {},
   "source": [
    "# Project 2\n",
    "Submitted by Candace Grant\n",
    "\n",
    " Create a .CSV file (or optionally, a MySQL database!) that includes all of the information included in the dataset. You’re encouraged to use a “wide” structure similar to how the information appears in the discussion item, so that you can practice tidying and transformations as described below.\n",
    "- Read the information from your .CSV file into Python, and use pandas as needed to tidy and transform your data. [Most of your grade will be based on this step!]\n",
    "- Perform the analysis requested in the discussion item.\n",
    "- Your code should be in an Jupyter Notebook, posted to your GitHub repository, and\n",
    "should include narrative descriptions of your data cleanup work, analysis, and\n",
    "conclusions."
   ]
  },
  {
   "cell_type": "code",
   "execution_count": 2,
   "metadata": {
    "collapsed": true
   },
   "outputs": [],
   "source": [
    "import numpy as np\n",
    "import pandas as pd\n",
    "import re"
   ]
  },
  {
   "cell_type": "markdown",
   "metadata": {},
   "source": [
    "# Dataset 1 \n",
    "California Cities\n",
    "\n",
    "- Which cities have the greatest amount of open water? \n",
    "- Which cities have the highest elevation? \n",
    "- Which cities have the greatest ratio of land area to water?\n"
   ]
  },
  {
   "cell_type": "code",
   "execution_count": 3,
   "metadata": {
    "collapsed": false
   },
   "outputs": [],
   "source": [
    "df_cities = pd.read_csv(\"/Users/candacegrant/Desktop/IS362 Date Acquisition/california_cities.csv\")"
   ]
  },
  {
   "cell_type": "code",
   "execution_count": 65,
   "metadata": {
    "collapsed": false
   },
   "outputs": [
    {
     "data": {
      "text/html": [
       "<div>\n",
       "<table border=\"1\" class=\"dataframe\">\n",
       "  <thead>\n",
       "    <tr style=\"text-align: right;\">\n",
       "      <th></th>\n",
       "      <th>Unnamed: 0</th>\n",
       "      <th>city</th>\n",
       "      <th>latd</th>\n",
       "      <th>longd</th>\n",
       "      <th>elevation_m</th>\n",
       "      <th>elevation_ft</th>\n",
       "      <th>population_total</th>\n",
       "      <th>area_total_sq_mi</th>\n",
       "      <th>area_land_sq_mi</th>\n",
       "      <th>area_water_sq_mi</th>\n",
       "      <th>area_total_km2</th>\n",
       "      <th>area_land_km2</th>\n",
       "      <th>area_water_km2</th>\n",
       "      <th>area_water_percent</th>\n",
       "    </tr>\n",
       "  </thead>\n",
       "  <tbody>\n",
       "    <tr>\n",
       "      <th>0</th>\n",
       "      <td>0</td>\n",
       "      <td>Adelanto</td>\n",
       "      <td>34.576111</td>\n",
       "      <td>-117.432778</td>\n",
       "      <td>875.0</td>\n",
       "      <td>2871.0</td>\n",
       "      <td>31765</td>\n",
       "      <td>56.027</td>\n",
       "      <td>56.009</td>\n",
       "      <td>0.018</td>\n",
       "      <td>145.107</td>\n",
       "      <td>145.062</td>\n",
       "      <td>0.046</td>\n",
       "      <td>0.03</td>\n",
       "    </tr>\n",
       "    <tr>\n",
       "      <th>1</th>\n",
       "      <td>1</td>\n",
       "      <td>AgouraHills</td>\n",
       "      <td>34.153333</td>\n",
       "      <td>-118.761667</td>\n",
       "      <td>281.0</td>\n",
       "      <td>922.0</td>\n",
       "      <td>20330</td>\n",
       "      <td>7.822</td>\n",
       "      <td>7.793</td>\n",
       "      <td>0.029</td>\n",
       "      <td>20.260</td>\n",
       "      <td>20.184</td>\n",
       "      <td>0.076</td>\n",
       "      <td>0.37</td>\n",
       "    </tr>\n",
       "    <tr>\n",
       "      <th>2</th>\n",
       "      <td>2</td>\n",
       "      <td>Alameda</td>\n",
       "      <td>37.756111</td>\n",
       "      <td>-122.274444</td>\n",
       "      <td>NaN</td>\n",
       "      <td>33.0</td>\n",
       "      <td>75467</td>\n",
       "      <td>22.960</td>\n",
       "      <td>10.611</td>\n",
       "      <td>12.349</td>\n",
       "      <td>59.465</td>\n",
       "      <td>27.482</td>\n",
       "      <td>31.983</td>\n",
       "      <td>53.79</td>\n",
       "    </tr>\n",
       "    <tr>\n",
       "      <th>3</th>\n",
       "      <td>3</td>\n",
       "      <td>Albany</td>\n",
       "      <td>37.886944</td>\n",
       "      <td>-122.297778</td>\n",
       "      <td>NaN</td>\n",
       "      <td>43.0</td>\n",
       "      <td>18969</td>\n",
       "      <td>5.465</td>\n",
       "      <td>1.788</td>\n",
       "      <td>3.677</td>\n",
       "      <td>14.155</td>\n",
       "      <td>4.632</td>\n",
       "      <td>9.524</td>\n",
       "      <td>67.28</td>\n",
       "    </tr>\n",
       "    <tr>\n",
       "      <th>4</th>\n",
       "      <td>4</td>\n",
       "      <td>Alhambra</td>\n",
       "      <td>34.081944</td>\n",
       "      <td>-118.135000</td>\n",
       "      <td>150.0</td>\n",
       "      <td>492.0</td>\n",
       "      <td>83089</td>\n",
       "      <td>7.632</td>\n",
       "      <td>7.631</td>\n",
       "      <td>0.001</td>\n",
       "      <td>19.766</td>\n",
       "      <td>19.763</td>\n",
       "      <td>0.003</td>\n",
       "      <td>0.01</td>\n",
       "    </tr>\n",
       "  </tbody>\n",
       "</table>\n",
       "</div>"
      ],
      "text/plain": [
       "   Unnamed: 0         city       latd       longd  elevation_m  elevation_ft  \\\n",
       "0           0     Adelanto  34.576111 -117.432778        875.0        2871.0   \n",
       "1           1  AgouraHills  34.153333 -118.761667        281.0         922.0   \n",
       "2           2      Alameda  37.756111 -122.274444          NaN          33.0   \n",
       "3           3       Albany  37.886944 -122.297778          NaN          43.0   \n",
       "4           4     Alhambra  34.081944 -118.135000        150.0         492.0   \n",
       "\n",
       "   population_total  area_total_sq_mi  area_land_sq_mi  area_water_sq_mi  \\\n",
       "0             31765            56.027           56.009             0.018   \n",
       "1             20330             7.822            7.793             0.029   \n",
       "2             75467            22.960           10.611            12.349   \n",
       "3             18969             5.465            1.788             3.677   \n",
       "4             83089             7.632            7.631             0.001   \n",
       "\n",
       "   area_total_km2  area_land_km2  area_water_km2  area_water_percent  \n",
       "0         145.107        145.062           0.046                0.03  \n",
       "1          20.260         20.184           0.076                0.37  \n",
       "2          59.465         27.482          31.983               53.79  \n",
       "3          14.155          4.632           9.524               67.28  \n",
       "4          19.766         19.763           0.003                0.01  "
      ]
     },
     "execution_count": 65,
     "metadata": {},
     "output_type": "execute_result"
    }
   ],
   "source": [
    "df_cities.head()"
   ]
  },
  {
   "cell_type": "code",
   "execution_count": 66,
   "metadata": {
    "collapsed": false
   },
   "outputs": [
    {
     "data": {
      "text/plain": [
       "(482, 14)"
      ]
     },
     "execution_count": 66,
     "metadata": {},
     "output_type": "execute_result"
    }
   ],
   "source": [
    "df_cities.shape"
   ]
  },
  {
   "cell_type": "code",
   "execution_count": 67,
   "metadata": {
    "collapsed": false
   },
   "outputs": [
    {
     "data": {
      "text/html": [
       "<div>\n",
       "<table border=\"1\" class=\"dataframe\">\n",
       "  <thead>\n",
       "    <tr style=\"text-align: right;\">\n",
       "      <th></th>\n",
       "      <th>Unnamed: 0</th>\n",
       "      <th>latd</th>\n",
       "      <th>longd</th>\n",
       "      <th>elevation_m</th>\n",
       "      <th>elevation_ft</th>\n",
       "      <th>population_total</th>\n",
       "      <th>area_total_sq_mi</th>\n",
       "      <th>area_land_sq_mi</th>\n",
       "      <th>area_water_sq_mi</th>\n",
       "      <th>area_total_km2</th>\n",
       "      <th>area_land_km2</th>\n",
       "      <th>area_water_km2</th>\n",
       "      <th>area_water_percent</th>\n",
       "    </tr>\n",
       "  </thead>\n",
       "  <tbody>\n",
       "    <tr>\n",
       "      <th>count</th>\n",
       "      <td>482.000000</td>\n",
       "      <td>482.000000</td>\n",
       "      <td>482.000000</td>\n",
       "      <td>434.000000</td>\n",
       "      <td>470.000000</td>\n",
       "      <td>4.820000e+02</td>\n",
       "      <td>480.000000</td>\n",
       "      <td>482.000000</td>\n",
       "      <td>481.000000</td>\n",
       "      <td>477.000000</td>\n",
       "      <td>478.000000</td>\n",
       "      <td>478.000000</td>\n",
       "      <td>477.000000</td>\n",
       "    </tr>\n",
       "    <tr>\n",
       "      <th>mean</th>\n",
       "      <td>240.500000</td>\n",
       "      <td>36.095088</td>\n",
       "      <td>-119.837714</td>\n",
       "      <td>180.416705</td>\n",
       "      <td>567.168723</td>\n",
       "      <td>6.489493e+04</td>\n",
       "      <td>18.442183</td>\n",
       "      <td>16.840981</td>\n",
       "      <td>1.589630</td>\n",
       "      <td>46.753283</td>\n",
       "      <td>43.547021</td>\n",
       "      <td>3.125178</td>\n",
       "      <td>5.301801</td>\n",
       "    </tr>\n",
       "    <tr>\n",
       "      <th>std</th>\n",
       "      <td>139.285678</td>\n",
       "      <td>2.298006</td>\n",
       "      <td>2.147676</td>\n",
       "      <td>309.531825</td>\n",
       "      <td>1001.265722</td>\n",
       "      <td>2.032041e+05</td>\n",
       "      <td>36.363230</td>\n",
       "      <td>32.694647</td>\n",
       "      <td>9.490386</td>\n",
       "      <td>90.972269</td>\n",
       "      <td>84.933022</td>\n",
       "      <td>11.562269</td>\n",
       "      <td>14.656428</td>\n",
       "    </tr>\n",
       "    <tr>\n",
       "      <th>min</th>\n",
       "      <td>0.000000</td>\n",
       "      <td>32.578333</td>\n",
       "      <td>-124.263333</td>\n",
       "      <td>-34.000000</td>\n",
       "      <td>-180.000000</td>\n",
       "      <td>1.000000e+00</td>\n",
       "      <td>0.314000</td>\n",
       "      <td>0.314000</td>\n",
       "      <td>0.000000</td>\n",
       "      <td>0.813000</td>\n",
       "      <td>0.813000</td>\n",
       "      <td>0.000000</td>\n",
       "      <td>0.000000</td>\n",
       "    </tr>\n",
       "    <tr>\n",
       "      <th>25%</th>\n",
       "      <td>120.250000</td>\n",
       "      <td>33.977292</td>\n",
       "      <td>-121.954931</td>\n",
       "      <td>22.000000</td>\n",
       "      <td>69.000000</td>\n",
       "      <td>1.090200e+04</td>\n",
       "      <td>3.708250</td>\n",
       "      <td>3.506500</td>\n",
       "      <td>0.000000</td>\n",
       "      <td>9.551000</td>\n",
       "      <td>9.025000</td>\n",
       "      <td>0.000250</td>\n",
       "      <td>0.000000</td>\n",
       "    </tr>\n",
       "    <tr>\n",
       "      <th>50%</th>\n",
       "      <td>240.500000</td>\n",
       "      <td>36.204722</td>\n",
       "      <td>-119.708611</td>\n",
       "      <td>67.000000</td>\n",
       "      <td>200.000000</td>\n",
       "      <td>2.905750e+04</td>\n",
       "      <td>9.093000</td>\n",
       "      <td>8.362000</td>\n",
       "      <td>0.029000</td>\n",
       "      <td>23.551000</td>\n",
       "      <td>21.533000</td>\n",
       "      <td>0.078500</td>\n",
       "      <td>0.340000</td>\n",
       "    </tr>\n",
       "    <tr>\n",
       "      <th>75%</th>\n",
       "      <td>360.750000</td>\n",
       "      <td>37.886667</td>\n",
       "      <td>-117.977292</td>\n",
       "      <td>173.500000</td>\n",
       "      <td>515.000000</td>\n",
       "      <td>6.646650e+04</td>\n",
       "      <td>19.878250</td>\n",
       "      <td>19.090000</td>\n",
       "      <td>0.244000</td>\n",
       "      <td>51.772000</td>\n",
       "      <td>49.322000</td>\n",
       "      <td>0.623250</td>\n",
       "      <td>1.870000</td>\n",
       "    </tr>\n",
       "    <tr>\n",
       "      <th>max</th>\n",
       "      <td>481.000000</td>\n",
       "      <td>41.965000</td>\n",
       "      <td>-114.596389</td>\n",
       "      <td>2402.000000</td>\n",
       "      <td>7880.000000</td>\n",
       "      <td>3.884307e+06</td>\n",
       "      <td>503.000000</td>\n",
       "      <td>469.000000</td>\n",
       "      <td>185.020000</td>\n",
       "      <td>1302.000000</td>\n",
       "      <td>1214.000000</td>\n",
       "      <td>122.270000</td>\n",
       "      <td>84.580000</td>\n",
       "    </tr>\n",
       "  </tbody>\n",
       "</table>\n",
       "</div>"
      ],
      "text/plain": [
       "       Unnamed: 0        latd       longd  elevation_m  elevation_ft  \\\n",
       "count  482.000000  482.000000  482.000000   434.000000    470.000000   \n",
       "mean   240.500000   36.095088 -119.837714   180.416705    567.168723   \n",
       "std    139.285678    2.298006    2.147676   309.531825   1001.265722   \n",
       "min      0.000000   32.578333 -124.263333   -34.000000   -180.000000   \n",
       "25%    120.250000   33.977292 -121.954931    22.000000     69.000000   \n",
       "50%    240.500000   36.204722 -119.708611    67.000000    200.000000   \n",
       "75%    360.750000   37.886667 -117.977292   173.500000    515.000000   \n",
       "max    481.000000   41.965000 -114.596389  2402.000000   7880.000000   \n",
       "\n",
       "       population_total  area_total_sq_mi  area_land_sq_mi  area_water_sq_mi  \\\n",
       "count      4.820000e+02        480.000000       482.000000        481.000000   \n",
       "mean       6.489493e+04         18.442183        16.840981          1.589630   \n",
       "std        2.032041e+05         36.363230        32.694647          9.490386   \n",
       "min        1.000000e+00          0.314000         0.314000          0.000000   \n",
       "25%        1.090200e+04          3.708250         3.506500          0.000000   \n",
       "50%        2.905750e+04          9.093000         8.362000          0.029000   \n",
       "75%        6.646650e+04         19.878250        19.090000          0.244000   \n",
       "max        3.884307e+06        503.000000       469.000000        185.020000   \n",
       "\n",
       "       area_total_km2  area_land_km2  area_water_km2  area_water_percent  \n",
       "count      477.000000     478.000000      478.000000          477.000000  \n",
       "mean        46.753283      43.547021        3.125178            5.301801  \n",
       "std         90.972269      84.933022       11.562269           14.656428  \n",
       "min          0.813000       0.813000        0.000000            0.000000  \n",
       "25%          9.551000       9.025000        0.000250            0.000000  \n",
       "50%         23.551000      21.533000        0.078500            0.340000  \n",
       "75%         51.772000      49.322000        0.623250            1.870000  \n",
       "max       1302.000000    1214.000000      122.270000           84.580000  "
      ]
     },
     "execution_count": 67,
     "metadata": {},
     "output_type": "execute_result"
    }
   ],
   "source": [
    "# Based on the analysis above we see that there are 482 rows. Some of the columns are missing values. For example,\n",
    "# elevation meters and elevation feet have missing values, among others.\n",
    "# the method.describe() gives more detailed statistics on the various parameters\n",
    "df_cities.describe()"
   ]
  },
  {
   "cell_type": "code",
   "execution_count": 5,
   "metadata": {
    "collapsed": false,
    "scrolled": true
   },
   "outputs": [
    {
     "data": {
      "text/html": [
       "<div>\n",
       "<table border=\"1\" class=\"dataframe\">\n",
       "  <thead>\n",
       "    <tr style=\"text-align: right;\">\n",
       "      <th></th>\n",
       "      <th>unnamed</th>\n",
       "      <th>city</th>\n",
       "      <th>latd</th>\n",
       "      <th>longd</th>\n",
       "      <th>elevation_m</th>\n",
       "      <th>elevation_ft</th>\n",
       "      <th>population_total</th>\n",
       "      <th>area_total_sq_mi</th>\n",
       "      <th>area_land_sq_mi</th>\n",
       "      <th>area_water_sq_mi</th>\n",
       "      <th>area_total_km2</th>\n",
       "      <th>area_land_km2</th>\n",
       "      <th>area_water_km2</th>\n",
       "      <th>area_water_percent</th>\n",
       "    </tr>\n",
       "  </thead>\n",
       "  <tbody>\n",
       "    <tr>\n",
       "      <th>0</th>\n",
       "      <td>0</td>\n",
       "      <td>Adelanto</td>\n",
       "      <td>34.576111</td>\n",
       "      <td>-117.432778</td>\n",
       "      <td>875.0</td>\n",
       "      <td>2871.0</td>\n",
       "      <td>31765</td>\n",
       "      <td>56.027</td>\n",
       "      <td>56.009</td>\n",
       "      <td>0.018</td>\n",
       "      <td>145.107</td>\n",
       "      <td>145.062</td>\n",
       "      <td>0.046</td>\n",
       "      <td>0.03</td>\n",
       "    </tr>\n",
       "    <tr>\n",
       "      <th>1</th>\n",
       "      <td>1</td>\n",
       "      <td>AgouraHills</td>\n",
       "      <td>34.153333</td>\n",
       "      <td>-118.761667</td>\n",
       "      <td>281.0</td>\n",
       "      <td>922.0</td>\n",
       "      <td>20330</td>\n",
       "      <td>7.822</td>\n",
       "      <td>7.793</td>\n",
       "      <td>0.029</td>\n",
       "      <td>20.260</td>\n",
       "      <td>20.184</td>\n",
       "      <td>0.076</td>\n",
       "      <td>0.37</td>\n",
       "    </tr>\n",
       "    <tr>\n",
       "      <th>2</th>\n",
       "      <td>2</td>\n",
       "      <td>Alameda</td>\n",
       "      <td>37.756111</td>\n",
       "      <td>-122.274444</td>\n",
       "      <td>NaN</td>\n",
       "      <td>33.0</td>\n",
       "      <td>75467</td>\n",
       "      <td>22.960</td>\n",
       "      <td>10.611</td>\n",
       "      <td>12.349</td>\n",
       "      <td>59.465</td>\n",
       "      <td>27.482</td>\n",
       "      <td>31.983</td>\n",
       "      <td>53.79</td>\n",
       "    </tr>\n",
       "    <tr>\n",
       "      <th>3</th>\n",
       "      <td>3</td>\n",
       "      <td>Albany</td>\n",
       "      <td>37.886944</td>\n",
       "      <td>-122.297778</td>\n",
       "      <td>NaN</td>\n",
       "      <td>43.0</td>\n",
       "      <td>18969</td>\n",
       "      <td>5.465</td>\n",
       "      <td>1.788</td>\n",
       "      <td>3.677</td>\n",
       "      <td>14.155</td>\n",
       "      <td>4.632</td>\n",
       "      <td>9.524</td>\n",
       "      <td>67.28</td>\n",
       "    </tr>\n",
       "    <tr>\n",
       "      <th>4</th>\n",
       "      <td>4</td>\n",
       "      <td>Alhambra</td>\n",
       "      <td>34.081944</td>\n",
       "      <td>-118.135000</td>\n",
       "      <td>150.0</td>\n",
       "      <td>492.0</td>\n",
       "      <td>83089</td>\n",
       "      <td>7.632</td>\n",
       "      <td>7.631</td>\n",
       "      <td>0.001</td>\n",
       "      <td>19.766</td>\n",
       "      <td>19.763</td>\n",
       "      <td>0.003</td>\n",
       "      <td>0.01</td>\n",
       "    </tr>\n",
       "  </tbody>\n",
       "</table>\n",
       "</div>"
      ],
      "text/plain": [
       "   unnamed         city       latd       longd  elevation_m  elevation_ft  \\\n",
       "0        0     Adelanto  34.576111 -117.432778        875.0        2871.0   \n",
       "1        1  AgouraHills  34.153333 -118.761667        281.0         922.0   \n",
       "2        2      Alameda  37.756111 -122.274444          NaN          33.0   \n",
       "3        3       Albany  37.886944 -122.297778          NaN          43.0   \n",
       "4        4     Alhambra  34.081944 -118.135000        150.0         492.0   \n",
       "\n",
       "   population_total  area_total_sq_mi  area_land_sq_mi  area_water_sq_mi  \\\n",
       "0             31765            56.027           56.009             0.018   \n",
       "1             20330             7.822            7.793             0.029   \n",
       "2             75467            22.960           10.611            12.349   \n",
       "3             18969             5.465            1.788             3.677   \n",
       "4             83089             7.632            7.631             0.001   \n",
       "\n",
       "   area_total_km2  area_land_km2  area_water_km2  area_water_percent  \n",
       "0         145.107        145.062           0.046                0.03  \n",
       "1          20.260         20.184           0.076                0.37  \n",
       "2          59.465         27.482          31.983               53.79  \n",
       "3          14.155          4.632           9.524               67.28  \n",
       "4          19.766         19.763           0.003                0.01  "
      ]
     },
     "execution_count": 5,
     "metadata": {},
     "output_type": "execute_result"
    }
   ],
   "source": [
    "#  After analyzing the dayta the first step is to rename the unnamed first column to a string\n",
    "df_cities_cols =['unnamed', 'city', 'latd', 'longd', 'elevation_m', 'elevation_ft',\n",
    "       'population_total', 'area_total_sq_mi', 'area_land_sq_mi',\n",
    "       'area_water_sq_mi', 'area_total_km2', 'area_land_km2', 'area_water_km2',\n",
    "       'area_water_percent']\n",
    "df_cities.columns = df_cities_cols\n",
    "df_cities.head()"
   ]
  },
  {
   "cell_type": "code",
   "execution_count": 9,
   "metadata": {
    "collapsed": false
   },
   "outputs": [
    {
     "data": {
      "text/html": [
       "<div>\n",
       "<table border=\"1\" class=\"dataframe\">\n",
       "  <thead>\n",
       "    <tr style=\"text-align: right;\">\n",
       "      <th></th>\n",
       "      <th>city</th>\n",
       "      <th>latd</th>\n",
       "      <th>longd</th>\n",
       "      <th>elevation_m</th>\n",
       "      <th>elevation_ft</th>\n",
       "      <th>population_total</th>\n",
       "      <th>area_total_sq_mi</th>\n",
       "      <th>area_land_sq_mi</th>\n",
       "      <th>area_water_sq_mi</th>\n",
       "      <th>area_total_km2</th>\n",
       "      <th>area_land_km2</th>\n",
       "      <th>area_water_km2</th>\n",
       "      <th>area_water_percent</th>\n",
       "    </tr>\n",
       "  </thead>\n",
       "  <tbody>\n",
       "    <tr>\n",
       "      <th>0</th>\n",
       "      <td>Adelanto</td>\n",
       "      <td>34.576111</td>\n",
       "      <td>-117.432778</td>\n",
       "      <td>875.0</td>\n",
       "      <td>2871.0</td>\n",
       "      <td>31765</td>\n",
       "      <td>56.027</td>\n",
       "      <td>56.009</td>\n",
       "      <td>0.018</td>\n",
       "      <td>145.107</td>\n",
       "      <td>145.062</td>\n",
       "      <td>0.046</td>\n",
       "      <td>0.03</td>\n",
       "    </tr>\n",
       "    <tr>\n",
       "      <th>1</th>\n",
       "      <td>AgouraHills</td>\n",
       "      <td>34.153333</td>\n",
       "      <td>-118.761667</td>\n",
       "      <td>281.0</td>\n",
       "      <td>922.0</td>\n",
       "      <td>20330</td>\n",
       "      <td>7.822</td>\n",
       "      <td>7.793</td>\n",
       "      <td>0.029</td>\n",
       "      <td>20.260</td>\n",
       "      <td>20.184</td>\n",
       "      <td>0.076</td>\n",
       "      <td>0.37</td>\n",
       "    </tr>\n",
       "    <tr>\n",
       "      <th>2</th>\n",
       "      <td>Alameda</td>\n",
       "      <td>37.756111</td>\n",
       "      <td>-122.274444</td>\n",
       "      <td>NaN</td>\n",
       "      <td>33.0</td>\n",
       "      <td>75467</td>\n",
       "      <td>22.960</td>\n",
       "      <td>10.611</td>\n",
       "      <td>12.349</td>\n",
       "      <td>59.465</td>\n",
       "      <td>27.482</td>\n",
       "      <td>31.983</td>\n",
       "      <td>53.79</td>\n",
       "    </tr>\n",
       "    <tr>\n",
       "      <th>3</th>\n",
       "      <td>Albany</td>\n",
       "      <td>37.886944</td>\n",
       "      <td>-122.297778</td>\n",
       "      <td>NaN</td>\n",
       "      <td>43.0</td>\n",
       "      <td>18969</td>\n",
       "      <td>5.465</td>\n",
       "      <td>1.788</td>\n",
       "      <td>3.677</td>\n",
       "      <td>14.155</td>\n",
       "      <td>4.632</td>\n",
       "      <td>9.524</td>\n",
       "      <td>67.28</td>\n",
       "    </tr>\n",
       "    <tr>\n",
       "      <th>4</th>\n",
       "      <td>Alhambra</td>\n",
       "      <td>34.081944</td>\n",
       "      <td>-118.135000</td>\n",
       "      <td>150.0</td>\n",
       "      <td>492.0</td>\n",
       "      <td>83089</td>\n",
       "      <td>7.632</td>\n",
       "      <td>7.631</td>\n",
       "      <td>0.001</td>\n",
       "      <td>19.766</td>\n",
       "      <td>19.763</td>\n",
       "      <td>0.003</td>\n",
       "      <td>0.01</td>\n",
       "    </tr>\n",
       "  </tbody>\n",
       "</table>\n",
       "</div>"
      ],
      "text/plain": [
       "          city       latd       longd  elevation_m  elevation_ft  \\\n",
       "0     Adelanto  34.576111 -117.432778        875.0        2871.0   \n",
       "1  AgouraHills  34.153333 -118.761667        281.0         922.0   \n",
       "2      Alameda  37.756111 -122.274444          NaN          33.0   \n",
       "3       Albany  37.886944 -122.297778          NaN          43.0   \n",
       "4     Alhambra  34.081944 -118.135000        150.0         492.0   \n",
       "\n",
       "   population_total  area_total_sq_mi  area_land_sq_mi  area_water_sq_mi  \\\n",
       "0             31765            56.027           56.009             0.018   \n",
       "1             20330             7.822            7.793             0.029   \n",
       "2             75467            22.960           10.611            12.349   \n",
       "3             18969             5.465            1.788             3.677   \n",
       "4             83089             7.632            7.631             0.001   \n",
       "\n",
       "   area_total_km2  area_land_km2  area_water_km2  area_water_percent  \n",
       "0         145.107        145.062           0.046                0.03  \n",
       "1          20.260         20.184           0.076                0.37  \n",
       "2          59.465         27.482          31.983               53.79  \n",
       "3          14.155          4.632           9.524               67.28  \n",
       "4          19.766         19.763           0.003                0.01  "
      ]
     },
     "execution_count": 9,
     "metadata": {},
     "output_type": "execute_result"
    }
   ],
   "source": [
    "# The next step is to remove the column titled \"unnamed\"\n",
    "df_cities.drop('unnamed', axis=1, inplace=True)\n",
    "df_cities.head()"
   ]
  },
  {
   "cell_type": "code",
   "execution_count": 10,
   "metadata": {
    "collapsed": false
   },
   "outputs": [
    {
     "data": {
      "text/plain": [
       "0        Adelanto\n",
       "1    Agoura Hills\n",
       "2         Alameda\n",
       "3          Albany\n",
       "4        Alhambra\n",
       "Name: city, dtype: object"
      ]
     },
     "execution_count": 10,
     "metadata": {},
     "output_type": "execute_result"
    }
   ],
   "source": [
    "#  The data is furthur cleaned up by fixing the spacing in city names using restructured text and pytho code.\n",
    "def split_on_upper_case(text):\n",
    "    split_list = re.findall('[A-Z][^A-Z]*', text)\n",
    "    return ' '.join(split_list)\n",
    "\n",
    "df_cities['city'] = df_cities['city'].apply(split_on_upper_case)\n",
    "\n",
    "df_cities['city'].head(5)"
   ]
  },
  {
   "cell_type": "markdown",
   "metadata": {},
   "source": [
    "### Top 10 California cities with greatest amount of open water"
   ]
  },
  {
   "cell_type": "code",
   "execution_count": 22,
   "metadata": {
    "collapsed": false
   },
   "outputs": [
    {
     "data": {
      "text/html": [
       "<div>\n",
       "<table border=\"1\" class=\"dataframe\">\n",
       "  <thead>\n",
       "    <tr style=\"text-align: right;\">\n",
       "      <th></th>\n",
       "      <th>city</th>\n",
       "      <th>area_water_sq_mi</th>\n",
       "    </tr>\n",
       "  </thead>\n",
       "  <tbody>\n",
       "    <tr>\n",
       "      <th>370</th>\n",
       "      <td>San Francisco</td>\n",
       "      <td>185.020</td>\n",
       "    </tr>\n",
       "    <tr>\n",
       "      <th>367</th>\n",
       "      <td>San Diego</td>\n",
       "      <td>47.210</td>\n",
       "    </tr>\n",
       "    <tr>\n",
       "      <th>239</th>\n",
       "      <td>Los Angeles</td>\n",
       "      <td>34.000</td>\n",
       "    </tr>\n",
       "    <tr>\n",
       "      <th>285</th>\n",
       "      <td>Newport Beach</td>\n",
       "      <td>29.173</td>\n",
       "    </tr>\n",
       "    <tr>\n",
       "      <th>93</th>\n",
       "      <td>Coronado</td>\n",
       "      <td>24.735</td>\n",
       "    </tr>\n",
       "    <tr>\n",
       "      <th>104</th>\n",
       "      <td>Dana Point</td>\n",
       "      <td>22.987</td>\n",
       "    </tr>\n",
       "    <tr>\n",
       "      <th>387</th>\n",
       "      <td>Santa Barbara</td>\n",
       "      <td>22.500</td>\n",
       "    </tr>\n",
       "    <tr>\n",
       "      <th>345</th>\n",
       "      <td>Richmond</td>\n",
       "      <td>22.412</td>\n",
       "    </tr>\n",
       "    <tr>\n",
       "      <th>290</th>\n",
       "      <td>Oakland</td>\n",
       "      <td>22.216</td>\n",
       "    </tr>\n",
       "    <tr>\n",
       "      <th>418</th>\n",
       "      <td>South San Francisco</td>\n",
       "      <td>21.017</td>\n",
       "    </tr>\n",
       "  </tbody>\n",
       "</table>\n",
       "</div>"
      ],
      "text/plain": [
       "                    city  area_water_sq_mi\n",
       "370        San Francisco           185.020\n",
       "367            San Diego            47.210\n",
       "239          Los Angeles            34.000\n",
       "285        Newport Beach            29.173\n",
       "93              Coronado            24.735\n",
       "104           Dana Point            22.987\n",
       "387        Santa Barbara            22.500\n",
       "345             Richmond            22.412\n",
       "290              Oakland            22.216\n",
       "418  South San Francisco            21.017"
      ]
     },
     "execution_count": 22,
     "metadata": {},
     "output_type": "execute_result"
    }
   ],
   "source": [
    "## Top 10 California cities with greatest amount of open water\n",
    "df_cities[['city', 'area_water_sq_mi']].sort_values('area_water_sq_mi', ascending=False).head(10)"
   ]
  },
  {
   "cell_type": "markdown",
   "metadata": {},
   "source": [
    "### Top 10 California cities with the highest elevation"
   ]
  },
  {
   "cell_type": "code",
   "execution_count": 8,
   "metadata": {
    "collapsed": false
   },
   "outputs": [
    {
     "data": {
      "text/html": [
       "<div>\n",
       "<table border=\"1\" class=\"dataframe\">\n",
       "  <thead>\n",
       "    <tr style=\"text-align: right;\">\n",
       "      <th></th>\n",
       "      <th>city</th>\n",
       "      <th>elevation_ft</th>\n",
       "    </tr>\n",
       "  </thead>\n",
       "  <tbody>\n",
       "    <tr>\n",
       "      <th>246</th>\n",
       "      <td>Mammoth Lakes</td>\n",
       "      <td>7880.0</td>\n",
       "    </tr>\n",
       "    <tr>\n",
       "      <th>39</th>\n",
       "      <td>Big Bear Lake</td>\n",
       "      <td>6752.0</td>\n",
       "    </tr>\n",
       "    <tr>\n",
       "      <th>416</th>\n",
       "      <td>South Lake Tahoe</td>\n",
       "      <td>6237.0</td>\n",
       "    </tr>\n",
       "    <tr>\n",
       "      <th>436</th>\n",
       "      <td>Truckee</td>\n",
       "      <td>5817.0</td>\n",
       "    </tr>\n",
       "    <tr>\n",
       "      <th>242</th>\n",
       "      <td>Loyalton</td>\n",
       "      <td>4951.0</td>\n",
       "    </tr>\n",
       "    <tr>\n",
       "      <th>330</th>\n",
       "      <td>Portola</td>\n",
       "      <td>4856.0</td>\n",
       "    </tr>\n",
       "    <tr>\n",
       "      <th>6</th>\n",
       "      <td>Alturas</td>\n",
       "      <td>4370.0</td>\n",
       "    </tr>\n",
       "    <tr>\n",
       "      <th>114</th>\n",
       "      <td>Dorris</td>\n",
       "      <td>4245.0</td>\n",
       "    </tr>\n",
       "    <tr>\n",
       "      <th>424</th>\n",
       "      <td>Susanville</td>\n",
       "      <td>4186.0</td>\n",
       "    </tr>\n",
       "    <tr>\n",
       "      <th>41</th>\n",
       "      <td>Bishop</td>\n",
       "      <td>4150.0</td>\n",
       "    </tr>\n",
       "  </tbody>\n",
       "</table>\n",
       "</div>"
      ],
      "text/plain": [
       "                 city  elevation_ft\n",
       "246     Mammoth Lakes        7880.0\n",
       "39      Big Bear Lake        6752.0\n",
       "416  South Lake Tahoe        6237.0\n",
       "436           Truckee        5817.0\n",
       "242          Loyalton        4951.0\n",
       "330           Portola        4856.0\n",
       "6             Alturas        4370.0\n",
       "114            Dorris        4245.0\n",
       "424        Susanville        4186.0\n",
       "41             Bishop        4150.0"
      ]
     },
     "execution_count": 8,
     "metadata": {},
     "output_type": "execute_result"
    }
   ],
   "source": [
    "# Top 10 California cities with the highest elevation\n",
    "\n",
    "# feets vs meters\n",
    "df_cities[['city', 'elevation_ft']].sort_values('elevation_ft', ascending=False).head(10)"
   ]
  },
  {
   "cell_type": "markdown",
   "metadata": {},
   "source": [
    "### Top 10 California cities with the greatest ratio of land area to water"
   ]
  },
  {
   "cell_type": "code",
   "execution_count": 9,
   "metadata": {
    "collapsed": false
   },
   "outputs": [
    {
     "data": {
      "text/html": [
       "<div>\n",
       "<table border=\"1\" class=\"dataframe\">\n",
       "  <thead>\n",
       "    <tr style=\"text-align: right;\">\n",
       "      <th></th>\n",
       "      <th>city</th>\n",
       "      <th>area_water_percent</th>\n",
       "    </tr>\n",
       "  </thead>\n",
       "  <tbody>\n",
       "    <tr>\n",
       "      <th>48</th>\n",
       "      <td>Brisbane</td>\n",
       "      <td>84.58</td>\n",
       "    </tr>\n",
       "    <tr>\n",
       "      <th>146</th>\n",
       "      <td>Foster City</td>\n",
       "      <td>81.07</td>\n",
       "    </tr>\n",
       "    <tr>\n",
       "      <th>366</th>\n",
       "      <td>Sand City</td>\n",
       "      <td>80.77</td>\n",
       "    </tr>\n",
       "    <tr>\n",
       "      <th>370</th>\n",
       "      <td>San Francisco</td>\n",
       "      <td>80.00</td>\n",
       "    </tr>\n",
       "    <tr>\n",
       "      <th>35</th>\n",
       "      <td>Belvedere</td>\n",
       "      <td>78.42</td>\n",
       "    </tr>\n",
       "    <tr>\n",
       "      <th>104</th>\n",
       "      <td>Dana Point</td>\n",
       "      <td>77.96</td>\n",
       "    </tr>\n",
       "    <tr>\n",
       "      <th>93</th>\n",
       "      <td>Coronado</td>\n",
       "      <td>75.72</td>\n",
       "    </tr>\n",
       "    <tr>\n",
       "      <th>319</th>\n",
       "      <td>Pismo Beach</td>\n",
       "      <td>73.29</td>\n",
       "    </tr>\n",
       "    <tr>\n",
       "      <th>65</th>\n",
       "      <td>Carpinteria</td>\n",
       "      <td>72.11</td>\n",
       "    </tr>\n",
       "    <tr>\n",
       "      <th>418</th>\n",
       "      <td>South San Francisco</td>\n",
       "      <td>69.69</td>\n",
       "    </tr>\n",
       "  </tbody>\n",
       "</table>\n",
       "</div>"
      ],
      "text/plain": [
       "                    city  area_water_percent\n",
       "48              Brisbane               84.58\n",
       "146          Foster City               81.07\n",
       "366            Sand City               80.77\n",
       "370        San Francisco               80.00\n",
       "35             Belvedere               78.42\n",
       "104           Dana Point               77.96\n",
       "93              Coronado               75.72\n",
       "319          Pismo Beach               73.29\n",
       "65           Carpinteria               72.11\n",
       "418  South San Francisco               69.69"
      ]
     },
     "execution_count": 9,
     "metadata": {},
     "output_type": "execute_result"
    }
   ],
   "source": [
    "# Top 10 California cities with the greatest ratio of land area to water\n",
    "\n",
    "# feets vs meters\n",
    "df_cities[['city', 'area_water_percent']].sort_values('area_water_percent', ascending=False).head(10)"
   ]
  },
  {
   "cell_type": "markdown",
   "metadata": {},
   "source": [
    "## Dataset 2 \n",
    "Leading Cause of Death in New York City\n",
    "\n",
    "- Which cause of death had most deaths in 2014?\n",
    "- Which cause of death had the lowest death rate in 2014?\n",
    "- What are the top 5 causes of death for Asian and Pacific Islander in 2014?"
   ]
  },
  {
   "cell_type": "code",
   "execution_count": 12,
   "metadata": {
    "collapsed": false
   },
   "outputs": [],
   "source": [
    "# The first step is to read the csv file from its stored location\n",
    "df_death = pd.read_csv(\"/Users/candacegrant/Desktop/IS362 Date Acquisition/New_York_City_Leading_Causes_of_Death.csv\")"
   ]
  },
  {
   "cell_type": "code",
   "execution_count": 13,
   "metadata": {
    "collapsed": false
   },
   "outputs": [
    {
     "data": {
      "text/html": [
       "<div>\n",
       "<table border=\"1\" class=\"dataframe\">\n",
       "  <thead>\n",
       "    <tr style=\"text-align: right;\">\n",
       "      <th></th>\n",
       "      <th>Year</th>\n",
       "      <th>Leading Cause</th>\n",
       "      <th>Sex</th>\n",
       "      <th>Race Ethnicity</th>\n",
       "      <th>Deaths</th>\n",
       "      <th>Death Rate</th>\n",
       "      <th>Age Adjusted Death Rate</th>\n",
       "    </tr>\n",
       "  </thead>\n",
       "  <tbody>\n",
       "    <tr>\n",
       "      <th>0</th>\n",
       "      <td>2014</td>\n",
       "      <td>Diabetes Mellitus (E10-E14)</td>\n",
       "      <td>F</td>\n",
       "      <td>Other Race/ Ethnicity</td>\n",
       "      <td>11</td>\n",
       "      <td>.</td>\n",
       "      <td>.</td>\n",
       "    </tr>\n",
       "    <tr>\n",
       "      <th>1</th>\n",
       "      <td>2011</td>\n",
       "      <td>Cerebrovascular Disease (Stroke: I60-I69)</td>\n",
       "      <td>M</td>\n",
       "      <td>White Non-Hispanic</td>\n",
       "      <td>290</td>\n",
       "      <td>21.7</td>\n",
       "      <td>18.2</td>\n",
       "    </tr>\n",
       "    <tr>\n",
       "      <th>2</th>\n",
       "      <td>2008</td>\n",
       "      <td>Malignant Neoplasms (Cancer: C00-C97)</td>\n",
       "      <td>M</td>\n",
       "      <td>Not Stated/Unknown</td>\n",
       "      <td>60</td>\n",
       "      <td>.</td>\n",
       "      <td>.</td>\n",
       "    </tr>\n",
       "    <tr>\n",
       "      <th>3</th>\n",
       "      <td>2010</td>\n",
       "      <td>Malignant Neoplasms (Cancer: C00-C97)</td>\n",
       "      <td>F</td>\n",
       "      <td>Hispanic</td>\n",
       "      <td>1045</td>\n",
       "      <td>85.9</td>\n",
       "      <td>98.5</td>\n",
       "    </tr>\n",
       "    <tr>\n",
       "      <th>4</th>\n",
       "      <td>2012</td>\n",
       "      <td>Cerebrovascular Disease (Stroke: I60-I69)</td>\n",
       "      <td>M</td>\n",
       "      <td>Black Non-Hispanic</td>\n",
       "      <td>170</td>\n",
       "      <td>19.9</td>\n",
       "      <td>23.3</td>\n",
       "    </tr>\n",
       "    <tr>\n",
       "      <th>5</th>\n",
       "      <td>2007</td>\n",
       "      <td>Mental and Behavioral Disorders due to Use of ...</td>\n",
       "      <td>M</td>\n",
       "      <td>Not Stated/Unknown</td>\n",
       "      <td>.</td>\n",
       "      <td>.</td>\n",
       "      <td>.</td>\n",
       "    </tr>\n",
       "    <tr>\n",
       "      <th>6</th>\n",
       "      <td>2011</td>\n",
       "      <td>All Other Causes</td>\n",
       "      <td>F</td>\n",
       "      <td>Not Stated/Unknown</td>\n",
       "      <td>14</td>\n",
       "      <td>.</td>\n",
       "      <td>.</td>\n",
       "    </tr>\n",
       "    <tr>\n",
       "      <th>7</th>\n",
       "      <td>2007</td>\n",
       "      <td>Chronic Lower Respiratory Diseases (J40-J47)</td>\n",
       "      <td>F</td>\n",
       "      <td>Black Non-Hispanic</td>\n",
       "      <td>163</td>\n",
       "      <td>15.5</td>\n",
       "      <td>14.8</td>\n",
       "    </tr>\n",
       "    <tr>\n",
       "      <th>8</th>\n",
       "      <td>2012</td>\n",
       "      <td>Essential Hypertension and Renal Diseases (I10...</td>\n",
       "      <td>F</td>\n",
       "      <td>Hispanic</td>\n",
       "      <td>101</td>\n",
       "      <td>8.2</td>\n",
       "      <td>9.5</td>\n",
       "    </tr>\n",
       "    <tr>\n",
       "      <th>9</th>\n",
       "      <td>2009</td>\n",
       "      <td>Diseases of Heart (I00-I09, I11, I13, I20-I51)</td>\n",
       "      <td>M</td>\n",
       "      <td>Hispanic</td>\n",
       "      <td>1382</td>\n",
       "      <td>123.1</td>\n",
       "      <td>227.9</td>\n",
       "    </tr>\n",
       "  </tbody>\n",
       "</table>\n",
       "</div>"
      ],
      "text/plain": [
       "   Year                                      Leading Cause Sex  \\\n",
       "0  2014                        Diabetes Mellitus (E10-E14)   F   \n",
       "1  2011          Cerebrovascular Disease (Stroke: I60-I69)   M   \n",
       "2  2008              Malignant Neoplasms (Cancer: C00-C97)   M   \n",
       "3  2010              Malignant Neoplasms (Cancer: C00-C97)   F   \n",
       "4  2012          Cerebrovascular Disease (Stroke: I60-I69)   M   \n",
       "5  2007  Mental and Behavioral Disorders due to Use of ...   M   \n",
       "6  2011                                   All Other Causes   F   \n",
       "7  2007       Chronic Lower Respiratory Diseases (J40-J47)   F   \n",
       "8  2012  Essential Hypertension and Renal Diseases (I10...   F   \n",
       "9  2009     Diseases of Heart (I00-I09, I11, I13, I20-I51)   M   \n",
       "\n",
       "          Race Ethnicity Deaths Death Rate Age Adjusted Death Rate  \n",
       "0  Other Race/ Ethnicity     11          .                       .  \n",
       "1     White Non-Hispanic    290       21.7                    18.2  \n",
       "2     Not Stated/Unknown     60          .                       .  \n",
       "3               Hispanic   1045       85.9                    98.5  \n",
       "4     Black Non-Hispanic    170       19.9                    23.3  \n",
       "5     Not Stated/Unknown      .          .                       .  \n",
       "6     Not Stated/Unknown     14          .                       .  \n",
       "7     Black Non-Hispanic    163       15.5                    14.8  \n",
       "8               Hispanic    101        8.2                     9.5  \n",
       "9               Hispanic   1382      123.1                   227.9  "
      ]
     },
     "execution_count": 13,
     "metadata": {},
     "output_type": "execute_result"
    }
   ],
   "source": [
    "# Preview of the dataset to get a sample of the data\n",
    "df_death.head(10)"
   ]
  },
  {
   "cell_type": "code",
   "execution_count": 12,
   "metadata": {
    "collapsed": false
   },
   "outputs": [
    {
     "data": {
      "text/plain": [
       "Year                        int64\n",
       "Leading Cause              object\n",
       "Sex                        object\n",
       "Race Ethnicity             object\n",
       "Deaths                     object\n",
       "Death Rate                 object\n",
       "Age Adjusted Death Rate    object\n",
       "dtype: object"
      ]
     },
     "execution_count": 12,
     "metadata": {},
     "output_type": "execute_result"
    }
   ],
   "source": [
    "# Check datatypes of data\n",
    "df_death.dtypes"
   ]
  },
  {
   "cell_type": "code",
   "execution_count": 14,
   "metadata": {
    "collapsed": false
   },
   "outputs": [],
   "source": [
    "# Replace all instances of '.' with a null value. The '.' affects sorting results.\n",
    "df_death = df_death.replace(to_replace='.', value=np.nan)"
   ]
  },
  {
   "cell_type": "code",
   "execution_count": 15,
   "metadata": {
    "collapsed": false
   },
   "outputs": [
    {
     "data": {
      "text/plain": [
       "Year                         int64\n",
       "Leading Cause               object\n",
       "Sex                         object\n",
       "Race Ethnicity              object\n",
       "Deaths                     float64\n",
       "Death Rate                 float64\n",
       "Age Adjusted Death Rate    float64\n",
       "dtype: object"
      ]
     },
     "execution_count": 15,
     "metadata": {},
     "output_type": "execute_result"
    }
   ],
   "source": [
    "# Convert 'Deaths', 'Death Rate', 'Age Adjusted Death Rate' to numeric values.\n",
    "df_death[['Deaths', 'Death Rate', 'Age Adjusted Death Rate']] = df_death[['Deaths', 'Death Rate', \n",
    "                                                              'Age Adjusted Death Rate']].apply(pd.to_numeric)\n",
    "\n",
    "# Check new datatypes to confirm they changed to numeric data types\n",
    "df_death.dtypes"
   ]
  },
  {
   "cell_type": "markdown",
   "metadata": {},
   "source": [
    "### This code sorts the data by year and deaths to find the most deaths in 2014 and the cause of death"
   ]
  },
  {
   "cell_type": "code",
   "execution_count": 16,
   "metadata": {
    "collapsed": false
   },
   "outputs": [
    {
     "data": {
      "text/html": [
       "<div>\n",
       "<table border=\"1\" class=\"dataframe\">\n",
       "  <thead>\n",
       "    <tr style=\"text-align: right;\">\n",
       "      <th></th>\n",
       "      <th>Year</th>\n",
       "      <th>Leading Cause</th>\n",
       "      <th>Sex</th>\n",
       "      <th>Race Ethnicity</th>\n",
       "      <th>Deaths</th>\n",
       "      <th>Death Rate</th>\n",
       "      <th>Age Adjusted Death Rate</th>\n",
       "    </tr>\n",
       "  </thead>\n",
       "  <tbody>\n",
       "    <tr>\n",
       "      <th>620</th>\n",
       "      <td>2014</td>\n",
       "      <td>Diseases of Heart (I00-I09, I11, I13, I20-I51)</td>\n",
       "      <td>F</td>\n",
       "      <td>White Non-Hispanic</td>\n",
       "      <td>4507.0</td>\n",
       "      <td>318.0</td>\n",
       "      <td>161.0</td>\n",
       "    </tr>\n",
       "  </tbody>\n",
       "</table>\n",
       "</div>"
      ],
      "text/plain": [
       "     Year                                   Leading Cause Sex  \\\n",
       "620  2014  Diseases of Heart (I00-I09, I11, I13, I20-I51)   F   \n",
       "\n",
       "         Race Ethnicity  Deaths  Death Rate  Age Adjusted Death Rate  \n",
       "620  White Non-Hispanic  4507.0       318.0                    161.0  "
      ]
     },
     "execution_count": 16,
     "metadata": {},
     "output_type": "execute_result"
    }
   ],
   "source": [
    "# This code sorts the data by year and deaths to find the most deaths in 2014.\n",
    "df_death[df_death['Year']==2014].sort_values('Deaths', ascending=False).head(1)"
   ]
  },
  {
   "cell_type": "markdown",
   "metadata": {},
   "source": [
    "### This code shows the cause of death with the lowest death rate "
   ]
  },
  {
   "cell_type": "code",
   "execution_count": 17,
   "metadata": {
    "collapsed": false
   },
   "outputs": [
    {
     "data": {
      "text/html": [
       "<div>\n",
       "<table border=\"1\" class=\"dataframe\">\n",
       "  <thead>\n",
       "    <tr style=\"text-align: right;\">\n",
       "      <th></th>\n",
       "      <th>Year</th>\n",
       "      <th>Leading Cause</th>\n",
       "      <th>Sex</th>\n",
       "      <th>Race Ethnicity</th>\n",
       "      <th>Deaths</th>\n",
       "      <th>Death Rate</th>\n",
       "      <th>Age Adjusted Death Rate</th>\n",
       "    </tr>\n",
       "  </thead>\n",
       "  <tbody>\n",
       "    <tr>\n",
       "      <th>342</th>\n",
       "      <td>2014</td>\n",
       "      <td>Alzheimer's Disease (G30)</td>\n",
       "      <td>F</td>\n",
       "      <td>Asian and Pacific Islander</td>\n",
       "      <td>26.0</td>\n",
       "      <td>4.2</td>\n",
       "      <td>4.7</td>\n",
       "    </tr>\n",
       "  </tbody>\n",
       "</table>\n",
       "</div>"
      ],
      "text/plain": [
       "     Year              Leading Cause Sex              Race Ethnicity  Deaths  \\\n",
       "342  2014  Alzheimer's Disease (G30)   F  Asian and Pacific Islander    26.0   \n",
       "\n",
       "     Death Rate  Age Adjusted Death Rate  \n",
       "342         4.2                      4.7  "
      ]
     },
     "execution_count": 17,
     "metadata": {},
     "output_type": "execute_result"
    }
   ],
   "source": [
    "# Lowest death rate in 2014\n",
    "df_death[df_death['Year']==2014].sort_values('Death Rate').head(1)"
   ]
  },
  {
   "cell_type": "markdown",
   "metadata": {},
   "source": [
    "### This code shows the 5 causes of death among Asian and Pacific Islander in 2014 by death count"
   ]
  },
  {
   "cell_type": "code",
   "execution_count": 18,
   "metadata": {
    "collapsed": false
   },
   "outputs": [
    {
     "data": {
      "text/html": [
       "<div>\n",
       "<table border=\"1\" class=\"dataframe\">\n",
       "  <thead>\n",
       "    <tr style=\"text-align: right;\">\n",
       "      <th></th>\n",
       "      <th>Year</th>\n",
       "      <th>Leading Cause</th>\n",
       "      <th>Sex</th>\n",
       "      <th>Race Ethnicity</th>\n",
       "      <th>Deaths</th>\n",
       "      <th>Death Rate</th>\n",
       "      <th>Age Adjusted Death Rate</th>\n",
       "    </tr>\n",
       "  </thead>\n",
       "  <tbody>\n",
       "    <tr>\n",
       "      <th>210</th>\n",
       "      <td>2014</td>\n",
       "      <td>Malignant Neoplasms (Cancer: C00-C97)</td>\n",
       "      <td>M</td>\n",
       "      <td>Asian and Pacific Islander</td>\n",
       "      <td>657.0</td>\n",
       "      <td>114.5</td>\n",
       "      <td>129.5</td>\n",
       "    </tr>\n",
       "    <tr>\n",
       "      <th>988</th>\n",
       "      <td>2014</td>\n",
       "      <td>Diseases of Heart (I00-I09, I11, I13, I20-I51)</td>\n",
       "      <td>M</td>\n",
       "      <td>Asian and Pacific Islander</td>\n",
       "      <td>554.0</td>\n",
       "      <td>96.5</td>\n",
       "      <td>118.5</td>\n",
       "    </tr>\n",
       "    <tr>\n",
       "      <th>344</th>\n",
       "      <td>2014</td>\n",
       "      <td>Malignant Neoplasms (Cancer: C00-C97)</td>\n",
       "      <td>F</td>\n",
       "      <td>Asian and Pacific Islander</td>\n",
       "      <td>502.0</td>\n",
       "      <td>80.2</td>\n",
       "      <td>80.6</td>\n",
       "    </tr>\n",
       "    <tr>\n",
       "      <th>567</th>\n",
       "      <td>2014</td>\n",
       "      <td>Diseases of Heart (I00-I09, I11, I13, I20-I51)</td>\n",
       "      <td>F</td>\n",
       "      <td>Asian and Pacific Islander</td>\n",
       "      <td>462.0</td>\n",
       "      <td>73.8</td>\n",
       "      <td>81.1</td>\n",
       "    </tr>\n",
       "    <tr>\n",
       "      <th>54</th>\n",
       "      <td>2014</td>\n",
       "      <td>All Other Causes</td>\n",
       "      <td>M</td>\n",
       "      <td>Asian and Pacific Islander</td>\n",
       "      <td>424.0</td>\n",
       "      <td>73.9</td>\n",
       "      <td>90.4</td>\n",
       "    </tr>\n",
       "  </tbody>\n",
       "</table>\n",
       "</div>"
      ],
      "text/plain": [
       "     Year                                   Leading Cause Sex  \\\n",
       "210  2014           Malignant Neoplasms (Cancer: C00-C97)   M   \n",
       "988  2014  Diseases of Heart (I00-I09, I11, I13, I20-I51)   M   \n",
       "344  2014           Malignant Neoplasms (Cancer: C00-C97)   F   \n",
       "567  2014  Diseases of Heart (I00-I09, I11, I13, I20-I51)   F   \n",
       "54   2014                                All Other Causes   M   \n",
       "\n",
       "                 Race Ethnicity  Deaths  Death Rate  Age Adjusted Death Rate  \n",
       "210  Asian and Pacific Islander   657.0       114.5                    129.5  \n",
       "988  Asian and Pacific Islander   554.0        96.5                    118.5  \n",
       "344  Asian and Pacific Islander   502.0        80.2                     80.6  \n",
       "567  Asian and Pacific Islander   462.0        73.8                     81.1  \n",
       "54   Asian and Pacific Islander   424.0        73.9                     90.4  "
      ]
     },
     "execution_count": 18,
     "metadata": {},
     "output_type": "execute_result"
    }
   ],
   "source": [
    "# Top 5 causes of death for Asian and Pacific Islander in 2014 by death count\n",
    "df_death[(df_death['Year']==2014) & (df_death['Race Ethnicity']=='Asian and Pacific Islander')].sort_values('Deaths', \n",
    "                                                                                          ascending=False).head(5)"
   ]
  },
  {
   "cell_type": "markdown",
   "metadata": {},
   "source": [
    "## Dataset 3\n",
    "Planes\n",
    "- Find the plane manufacturer with the most seats?"
   ]
  },
  {
   "cell_type": "code",
   "execution_count": 20,
   "metadata": {
    "collapsed": false
   },
   "outputs": [],
   "source": [
    "# The data must first be read from the data source and checked as shown in In[17] below.\n",
    "df_planes = pd.read_csv(\"/Users/candacegrant/Desktop/IS362 Date Acquisition/planes.csv\")"
   ]
  },
  {
   "cell_type": "code",
   "execution_count": 17,
   "metadata": {
    "collapsed": false
   },
   "outputs": [
    {
     "data": {
      "text/html": [
       "<div>\n",
       "<table border=\"1\" class=\"dataframe\">\n",
       "  <thead>\n",
       "    <tr style=\"text-align: right;\">\n",
       "      <th></th>\n",
       "      <th>tailnum</th>\n",
       "      <th>year</th>\n",
       "      <th>type</th>\n",
       "      <th>manufacturer</th>\n",
       "      <th>model</th>\n",
       "      <th>engines</th>\n",
       "      <th>seats</th>\n",
       "      <th>speed</th>\n",
       "      <th>engine</th>\n",
       "    </tr>\n",
       "  </thead>\n",
       "  <tbody>\n",
       "    <tr>\n",
       "      <th>0</th>\n",
       "      <td>N10156</td>\n",
       "      <td>2004.0</td>\n",
       "      <td>Fixed wing multi engine</td>\n",
       "      <td>EMBRAER</td>\n",
       "      <td>EMB-145XR</td>\n",
       "      <td>2</td>\n",
       "      <td>55</td>\n",
       "      <td>NaN</td>\n",
       "      <td>Turbo-fan</td>\n",
       "    </tr>\n",
       "    <tr>\n",
       "      <th>1</th>\n",
       "      <td>N102UW</td>\n",
       "      <td>1998.0</td>\n",
       "      <td>Fixed wing multi engine</td>\n",
       "      <td>AIRBUS INDUSTRIE</td>\n",
       "      <td>A320-214</td>\n",
       "      <td>2</td>\n",
       "      <td>182</td>\n",
       "      <td>NaN</td>\n",
       "      <td>Turbo-fan</td>\n",
       "    </tr>\n",
       "    <tr>\n",
       "      <th>2</th>\n",
       "      <td>N103US</td>\n",
       "      <td>1999.0</td>\n",
       "      <td>Fixed wing multi engine</td>\n",
       "      <td>AIRBUS INDUSTRIE</td>\n",
       "      <td>A320-214</td>\n",
       "      <td>2</td>\n",
       "      <td>182</td>\n",
       "      <td>NaN</td>\n",
       "      <td>Turbo-fan</td>\n",
       "    </tr>\n",
       "    <tr>\n",
       "      <th>3</th>\n",
       "      <td>N104UW</td>\n",
       "      <td>1999.0</td>\n",
       "      <td>Fixed wing multi engine</td>\n",
       "      <td>AIRBUS INDUSTRIE</td>\n",
       "      <td>A320-214</td>\n",
       "      <td>2</td>\n",
       "      <td>182</td>\n",
       "      <td>NaN</td>\n",
       "      <td>Turbo-fan</td>\n",
       "    </tr>\n",
       "    <tr>\n",
       "      <th>4</th>\n",
       "      <td>N10575</td>\n",
       "      <td>2002.0</td>\n",
       "      <td>Fixed wing multi engine</td>\n",
       "      <td>EMBRAER</td>\n",
       "      <td>EMB-145LR</td>\n",
       "      <td>2</td>\n",
       "      <td>55</td>\n",
       "      <td>NaN</td>\n",
       "      <td>Turbo-fan</td>\n",
       "    </tr>\n",
       "    <tr>\n",
       "      <th>5</th>\n",
       "      <td>N105UW</td>\n",
       "      <td>1999.0</td>\n",
       "      <td>Fixed wing multi engine</td>\n",
       "      <td>AIRBUS INDUSTRIE</td>\n",
       "      <td>A320-214</td>\n",
       "      <td>2</td>\n",
       "      <td>182</td>\n",
       "      <td>NaN</td>\n",
       "      <td>Turbo-fan</td>\n",
       "    </tr>\n",
       "    <tr>\n",
       "      <th>6</th>\n",
       "      <td>N107US</td>\n",
       "      <td>1999.0</td>\n",
       "      <td>Fixed wing multi engine</td>\n",
       "      <td>AIRBUS INDUSTRIE</td>\n",
       "      <td>A320-214</td>\n",
       "      <td>2</td>\n",
       "      <td>182</td>\n",
       "      <td>NaN</td>\n",
       "      <td>Turbo-fan</td>\n",
       "    </tr>\n",
       "    <tr>\n",
       "      <th>7</th>\n",
       "      <td>N108UW</td>\n",
       "      <td>1999.0</td>\n",
       "      <td>Fixed wing multi engine</td>\n",
       "      <td>AIRBUS INDUSTRIE</td>\n",
       "      <td>A320-214</td>\n",
       "      <td>2</td>\n",
       "      <td>182</td>\n",
       "      <td>NaN</td>\n",
       "      <td>Turbo-fan</td>\n",
       "    </tr>\n",
       "    <tr>\n",
       "      <th>8</th>\n",
       "      <td>N109UW</td>\n",
       "      <td>1999.0</td>\n",
       "      <td>Fixed wing multi engine</td>\n",
       "      <td>AIRBUS INDUSTRIE</td>\n",
       "      <td>A320-214</td>\n",
       "      <td>2</td>\n",
       "      <td>182</td>\n",
       "      <td>NaN</td>\n",
       "      <td>Turbo-fan</td>\n",
       "    </tr>\n",
       "    <tr>\n",
       "      <th>9</th>\n",
       "      <td>N110UW</td>\n",
       "      <td>1999.0</td>\n",
       "      <td>Fixed wing multi engine</td>\n",
       "      <td>AIRBUS INDUSTRIE</td>\n",
       "      <td>A320-214</td>\n",
       "      <td>2</td>\n",
       "      <td>182</td>\n",
       "      <td>NaN</td>\n",
       "      <td>Turbo-fan</td>\n",
       "    </tr>\n",
       "  </tbody>\n",
       "</table>\n",
       "</div>"
      ],
      "text/plain": [
       "  tailnum    year                     type      manufacturer      model  \\\n",
       "0  N10156  2004.0  Fixed wing multi engine           EMBRAER  EMB-145XR   \n",
       "1  N102UW  1998.0  Fixed wing multi engine  AIRBUS INDUSTRIE   A320-214   \n",
       "2  N103US  1999.0  Fixed wing multi engine  AIRBUS INDUSTRIE   A320-214   \n",
       "3  N104UW  1999.0  Fixed wing multi engine  AIRBUS INDUSTRIE   A320-214   \n",
       "4  N10575  2002.0  Fixed wing multi engine           EMBRAER  EMB-145LR   \n",
       "5  N105UW  1999.0  Fixed wing multi engine  AIRBUS INDUSTRIE   A320-214   \n",
       "6  N107US  1999.0  Fixed wing multi engine  AIRBUS INDUSTRIE   A320-214   \n",
       "7  N108UW  1999.0  Fixed wing multi engine  AIRBUS INDUSTRIE   A320-214   \n",
       "8  N109UW  1999.0  Fixed wing multi engine  AIRBUS INDUSTRIE   A320-214   \n",
       "9  N110UW  1999.0  Fixed wing multi engine  AIRBUS INDUSTRIE   A320-214   \n",
       "\n",
       "   engines  seats  speed     engine  \n",
       "0        2     55    NaN  Turbo-fan  \n",
       "1        2    182    NaN  Turbo-fan  \n",
       "2        2    182    NaN  Turbo-fan  \n",
       "3        2    182    NaN  Turbo-fan  \n",
       "4        2     55    NaN  Turbo-fan  \n",
       "5        2    182    NaN  Turbo-fan  \n",
       "6        2    182    NaN  Turbo-fan  \n",
       "7        2    182    NaN  Turbo-fan  \n",
       "8        2    182    NaN  Turbo-fan  \n",
       "9        2    182    NaN  Turbo-fan  "
      ]
     },
     "execution_count": 17,
     "metadata": {},
     "output_type": "execute_result"
    }
   ],
   "source": [
    "df_planes.head(10)"
   ]
  },
  {
   "cell_type": "code",
   "execution_count": 18,
   "metadata": {
    "collapsed": false
   },
   "outputs": [
    {
     "data": {
      "text/plain": [
       "0    2004\n",
       "1    1998\n",
       "2    1999\n",
       "3    1999\n",
       "4    2002\n",
       "Name: year, dtype: object"
      ]
     },
     "execution_count": 18,
     "metadata": {},
     "output_type": "execute_result"
    }
   ],
   "source": [
    "# The years column should not have decimals. The year column is first converted from a float to a string.\n",
    "\n",
    "df_planes['year'] = df_planes['year'].astype(str).apply(lambda x: x.split('.')[0])\n",
    "\n",
    "# then convert from string back to a int/float where possible\n",
    "df_planes['year'] = pd.to_numeric(df_planes['year'], errors='ignore')\n",
    "\n",
    "df_planes['year'].head(5)"
   ]
  },
  {
   "cell_type": "code",
   "execution_count": 22,
   "metadata": {
    "collapsed": false
   },
   "outputs": [
    {
     "data": {
      "text/plain": [
       "array(['EMBRAER', 'AIRBUS INDUSTRIE', 'BOEING', 'AIRBUS', 'BOMBARDIER INC',\n",
       "       'CESSNA', 'JOHN G HESS', 'GULFSTREAM AEROSPACE', 'SIKORSKY',\n",
       "       'PIPER', 'AGUSTA SPA', 'PAIR MIKE E', 'DOUGLAS', 'BEECH', 'BELL',\n",
       "       'AVIAT AIRCRAFT INC', 'STEWART MACO', 'LEARJET INC',\n",
       "       'MCDONNELL DOUGLAS', 'CIRRUS DESIGN CORP', 'HURLEY JAMES LARRY',\n",
       "       'KILDALL GARY', 'LAMBERT RICHARD', 'BARKER JACK L',\n",
       "       'AMERICAN AIRCRAFT INC', 'ROBINSON HELICOPTER CO', 'FRIEDEMANN JON',\n",
       "       'LEBLANC GLENN T', 'MARZ BARRY', 'DEHAVILLAND', 'CANADAIR',\n",
       "       'CANADAIR LTD', 'MCDONNELL DOUGLAS CORPORATION',\n",
       "       'MCDONNELL DOUGLAS AIRCRAFT CO', 'AVIONS MARCEL DASSAULT'], dtype=object)"
      ]
     },
     "execution_count": 22,
     "metadata": {},
     "output_type": "execute_result"
    }
   ],
   "source": [
    "# All the unique manufacturers -- too many to calculate avg. speed independently so we need to group by manufacturer\n",
    "df_planes['manufacturer'].unique()"
   ]
  },
  {
   "cell_type": "code",
   "execution_count": 23,
   "metadata": {
    "collapsed": false,
    "scrolled": true
   },
   "outputs": [
    {
     "data": {
      "text/plain": [
       "manufacturer\n",
       "AGUSTA SPA                         NaN\n",
       "AIRBUS                             NaN\n",
       "AIRBUS INDUSTRIE                   NaN\n",
       "AMERICAN AIRCRAFT INC              NaN\n",
       "AVIAT AIRCRAFT INC                 NaN\n",
       "AVIONS MARCEL DASSAULT             NaN\n",
       "BARKER JACK L                      NaN\n",
       "BEECH                            202.0\n",
       "BELL                             112.0\n",
       "BOEING                             NaN\n",
       "BOMBARDIER INC                     NaN\n",
       "CANADAIR                           NaN\n",
       "CANADAIR LTD                       NaN\n",
       "CESSNA                           167.0\n",
       "CIRRUS DESIGN CORP                 NaN\n",
       "DEHAVILLAND                       95.0\n",
       "DOUGLAS                          232.0\n",
       "EMBRAER                            NaN\n",
       "FRIEDEMANN JON                     NaN\n",
       "GULFSTREAM AEROSPACE               NaN\n",
       "HURLEY JAMES LARRY                 NaN\n",
       "JOHN G HESS                        NaN\n",
       "KILDALL GARY                       NaN\n",
       "LAMBERT RICHARD                    NaN\n",
       "LEARJET INC                        NaN\n",
       "LEBLANC GLENN T                    NaN\n",
       "MARZ BARRY                         NaN\n",
       "MCDONNELL DOUGLAS                432.0\n",
       "MCDONNELL DOUGLAS AIRCRAFT CO      NaN\n",
       "MCDONNELL DOUGLAS CORPORATION      NaN\n",
       "PAIR MIKE E                        NaN\n",
       "PIPER                            162.0\n",
       "ROBINSON HELICOPTER CO             NaN\n",
       "SIKORSKY                           NaN\n",
       "STEWART MACO                       NaN\n",
       "Name: speed, dtype: float64"
      ]
     },
     "execution_count": 23,
     "metadata": {},
     "output_type": "execute_result"
    }
   ],
   "source": [
    "# Groupby manufacturer and return the average speed on each manufacturer. As is obvious from the result below in \n",
    "# Out[23] there are so many missing columns that an analysis of speed by manufacturer would not have been very \n",
    "# conclusive so the research question was modified to return the maximum number of seats by manufacturer.\n",
    "df_planes.groupby('manufacturer')['speed'].max()"
   ]
  },
  {
   "cell_type": "code",
   "execution_count": 24,
   "metadata": {
    "collapsed": false
   },
   "outputs": [
    {
     "data": {
      "text/plain": [
       "manufacturer\n",
       "AGUSTA SPA                         8\n",
       "AIRBUS                           379\n",
       "AIRBUS INDUSTRIE                 379\n",
       "AMERICAN AIRCRAFT INC              2\n",
       "AVIAT AIRCRAFT INC                 2\n",
       "AVIONS MARCEL DASSAULT            12\n",
       "BARKER JACK L                      2\n",
       "BEECH                             10\n",
       "BELL                              11\n",
       "BOEING                           450\n",
       "BOMBARDIER INC                    95\n",
       "CANADAIR                          55\n",
       "CANADAIR LTD                       2\n",
       "CESSNA                             8\n",
       "CIRRUS DESIGN CORP                 4\n",
       "DEHAVILLAND                       16\n",
       "DOUGLAS                          102\n",
       "EMBRAER                           55\n",
       "FRIEDEMANN JON                     2\n",
       "GULFSTREAM AEROSPACE              22\n",
       "HURLEY JAMES LARRY                 2\n",
       "JOHN G HESS                        2\n",
       "KILDALL GARY                       2\n",
       "LAMBERT RICHARD                    2\n",
       "LEARJET INC                       11\n",
       "LEBLANC GLENN T                    2\n",
       "MARZ BARRY                         2\n",
       "MCDONNELL DOUGLAS                172\n",
       "MCDONNELL DOUGLAS AIRCRAFT CO    142\n",
       "MCDONNELL DOUGLAS CORPORATION    142\n",
       "PAIR MIKE E                        2\n",
       "PIPER                              8\n",
       "ROBINSON HELICOPTER CO             5\n",
       "SIKORSKY                          14\n",
       "STEWART MACO                       2\n",
       "Name: seats, dtype: int64"
      ]
     },
     "execution_count": 24,
     "metadata": {},
     "output_type": "execute_result"
    }
   ],
   "source": [
    "# This data will provide a more realistic analysis\n",
    "df_planes.groupby('manufacturer')['seats'].max()"
   ]
  },
  {
   "cell_type": "code",
   "execution_count": 21,
   "metadata": {
    "collapsed": false
   },
   "outputs": [
    {
     "data": {
      "text/plain": [
       "BOEING                           1630\n",
       "AIRBUS INDUSTRIE                  400\n",
       "BOMBARDIER INC                    368\n",
       "AIRBUS                            336\n",
       "EMBRAER                           299\n",
       "MCDONNELL DOUGLAS                 120\n",
       "MCDONNELL DOUGLAS AIRCRAFT CO     103\n",
       "MCDONNELL DOUGLAS CORPORATION      14\n",
       "CANADAIR                            9\n",
       "CESSNA                              9\n",
       "PIPER                               5\n",
       "BEECH                               2\n",
       "GULFSTREAM AEROSPACE                2\n",
       "STEWART MACO                        2\n",
       "AMERICAN AIRCRAFT INC               2\n",
       "BELL                                2\n",
       "PAIR MIKE E                         1\n",
       "AVIONS MARCEL DASSAULT              1\n",
       "KILDALL GARY                        1\n",
       "HURLEY JAMES LARRY                  1\n",
       "LEARJET INC                         1\n",
       "DEHAVILLAND                         1\n",
       "AGUSTA SPA                          1\n",
       "LEBLANC GLENN T                     1\n",
       "AVIAT AIRCRAFT INC                  1\n",
       "LAMBERT RICHARD                     1\n",
       "CIRRUS DESIGN CORP                  1\n",
       "BARKER JACK L                       1\n",
       "MARZ BARRY                          1\n",
       "SIKORSKY                            1\n",
       "ROBINSON HELICOPTER CO              1\n",
       "CANADAIR LTD                        1\n",
       "FRIEDEMANN JON                      1\n",
       "JOHN G HESS                         1\n",
       "DOUGLAS                             1\n",
       "Name: manufacturer, dtype: int64"
      ]
     },
     "execution_count": 21,
     "metadata": {},
     "output_type": "execute_result"
    }
   ],
   "source": [
    "# First the number of planes by manufacturer is obtained. \n",
    "#This seems intuitive that manufacturers with the most planes will have the most total number of seats,\n",
    "# but furthur analysis will be done to confirm.\n",
    "df_planes['manufacturer'].value_counts()"
   ]
  },
  {
   "cell_type": "code",
   "execution_count": 13,
   "metadata": {
    "collapsed": false
   },
   "outputs": [
    {
     "data": {
      "text/plain": [
       "manufacturer\n",
       "AGUSTA SPA                            8\n",
       "AIRBUS                            74324\n",
       "AIRBUS INDUSTRIE                  74961\n",
       "AMERICAN AIRCRAFT INC                 4\n",
       "AVIAT AIRCRAFT INC                    2\n",
       "AVIONS MARCEL DASSAULT               12\n",
       "BARKER JACK L                         2\n",
       "BEECH                                19\n",
       "BELL                                 16\n",
       "BOEING                           285556\n",
       "BOMBARDIER INC                    27235\n",
       "CANADAIR                            495\n",
       "CANADAIR LTD                          2\n",
       "CESSNA                               48\n",
       "CIRRUS DESIGN CORP                    4\n",
       "DEHAVILLAND                          16\n",
       "DOUGLAS                             102\n",
       "EMBRAER                           13645\n",
       "FRIEDEMANN JON                        2\n",
       "GULFSTREAM AEROSPACE                 44\n",
       "HURLEY JAMES LARRY                    2\n",
       "JOHN G HESS                           2\n",
       "KILDALL GARY                          2\n",
       "LAMBERT RICHARD                       2\n",
       "LEARJET INC                          11\n",
       "LEBLANC GLENN T                       2\n",
       "MARZ BARRY                            2\n",
       "MCDONNELL DOUGLAS                 19446\n",
       "MCDONNELL DOUGLAS AIRCRAFT CO     14626\n",
       "MCDONNELL DOUGLAS CORPORATION      1988\n",
       "PAIR MIKE E                           2\n",
       "PIPER                                34\n",
       "ROBINSON HELICOPTER CO                5\n",
       "SIKORSKY                             14\n",
       "STEWART MACO                          4\n",
       "Name: seats, dtype: int64"
      ]
     },
     "execution_count": 13,
     "metadata": {},
     "output_type": "execute_result"
    }
   ],
   "source": [
    "# The data matches earlier intuition as manufacturers such as Boeing ans Airbus Industrie who produce the most planes \n",
    "# have the most cumulative number of seats.\n",
    "seats_manufacturer = df_planes.groupby('manufacturer')['seats'].sum()\n",
    "seats_manufacturer"
   ]
  },
  {
   "cell_type": "code",
   "execution_count": 14,
   "metadata": {
    "collapsed": false
   },
   "outputs": [
    {
     "data": {
      "text/plain": [
       "manufacturer\n",
       "BOEING                           285556\n",
       "AIRBUS INDUSTRIE                  74961\n",
       "AIRBUS                            74324\n",
       "BOMBARDIER INC                    27235\n",
       "MCDONNELL DOUGLAS                 19446\n",
       "MCDONNELL DOUGLAS AIRCRAFT CO     14626\n",
       "EMBRAER                           13645\n",
       "MCDONNELL DOUGLAS CORPORATION      1988\n",
       "CANADAIR                            495\n",
       "DOUGLAS                             102\n",
       "CESSNA                               48\n",
       "GULFSTREAM AEROSPACE                 44\n",
       "PIPER                                34\n",
       "BEECH                                19\n",
       "BELL                                 16\n",
       "DEHAVILLAND                          16\n",
       "SIKORSKY                             14\n",
       "AVIONS MARCEL DASSAULT               12\n",
       "LEARJET INC                          11\n",
       "AGUSTA SPA                            8\n",
       "Name: seats, dtype: int64"
      ]
     },
     "execution_count": 14,
     "metadata": {},
     "output_type": "execute_result"
    }
   ],
   "source": [
    "# When the data is sorted the top 20 values matches earlier predictions. \n",
    "seats_manufacturer.sort_values(ascending=False).head(20)"
   ]
  },
  {
   "cell_type": "code",
   "execution_count": 15,
   "metadata": {
    "collapsed": false
   },
   "outputs": [
    {
     "data": {
      "text/plain": [
       "manufacturer\n",
       "BOEING    285556\n",
       "Name: seats, dtype: int64"
      ]
     },
     "execution_count": 15,
     "metadata": {},
     "output_type": "execute_result"
    }
   ],
   "source": [
    "# find the manufacturer with the most seats. We can see that Boeing indeed tops the list.\n",
    "seats_manufacturer.sort_values(ascending=False).head(1)"
   ]
  },
  {
   "cell_type": "markdown",
   "metadata": {
    "collapsed": true
   },
   "source": [
    "### Conclusion\n",
    "\n",
    "When raw data has extensive missing entries, analysis will be inconclusive. It is best to \n",
    "reference dataset with another credible source with similar info before doing any analysis.  Another option is to use \n",
    "another parameter that can provide similar analysis. In this case for dataset #3, the number of seats tell which airplanes carry \n",
    "the most passengers and this can be used to do furthur analysis on the maintainence schedules of these planes and\n",
    "create further possible correlation with maintainenece shedules and flight delays.  Sometimes data can be in the wrong \n",
    "format such as a float when it should be a sting and formatting data befor analysis is important in order to get an \n",
    "accurate conclusion. \n"
   ]
  },
  {
   "cell_type": "code",
   "execution_count": null,
   "metadata": {
    "collapsed": true
   },
   "outputs": [],
   "source": []
  }
 ],
 "metadata": {
  "kernelspec": {
   "display_name": "Python 3",
   "language": "python",
   "name": "python3"
  },
  "language_info": {
   "codemirror_mode": {
    "name": "ipython",
    "version": 3
   },
   "file_extension": ".py",
   "mimetype": "text/x-python",
   "name": "python",
   "nbconvert_exporter": "python",
   "pygments_lexer": "ipython3",
   "version": "3.6.0"
  }
 },
 "nbformat": 4,
 "nbformat_minor": 0
}
